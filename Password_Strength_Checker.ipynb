{
  "nbformat": 4,
  "nbformat_minor": 0,
  "metadata": {
    "colab": {
      "provenance": []
    },
    "kernelspec": {
      "name": "python3",
      "display_name": "Python 3"
    },
    "language_info": {
      "name": "python"
    }
  },
  "cells": [
    {
      "cell_type": "markdown",
      "source": [
        "Level-2 Task-3 Password Strength Checker\n",
        "\n",
        "Create a Python function that evaluates the strength of a password entered by the user."
      ],
      "metadata": {
        "id": "QkEsm-dDJI49"
      }
    },
    {
      "cell_type": "code",
      "execution_count": 1,
      "metadata": {
        "id": "1WdDw5z4Ey2f"
      },
      "outputs": [],
      "source": [
        "import string"
      ]
    },
    {
      "cell_type": "code",
      "source": [
        "def evaluate_password_strength(password):\n",
        "    # Criteria variables\n",
        "    length_ok = len(password) >= 8\n",
        "    has_upper = any(char.isupper() for char in password)\n",
        "    has_lower = any(char.islower() for char in password)\n",
        "    has_digit = any(char.isdigit() for char in password)\n",
        "    has_special = any(char in string.punctuation for char in password)\n",
        "\n",
        "    if length_ok and has_upper and has_lower and has_digit and has_special:\n",
        "        return \"Strong\"\n",
        "    elif length_ok and has_upper and has_lower and has_digit:\n",
        "        return \"Moderate\"\n",
        "    else:\n",
        "        return \"Weak\""
      ],
      "metadata": {
        "id": "eVi8mwfFGjoY"
      },
      "execution_count": 2,
      "outputs": []
    },
    {
      "cell_type": "code",
      "source": [
        "password = input(\"Enter your password: \")\n",
        "strength = evaluate_password_strength(password)\n",
        "print(f\"The strength of your password '{password}' is: {strength}\")"
      ],
      "metadata": {
        "colab": {
          "base_uri": "https://localhost:8080/"
        },
        "id": "iLZGNiXPGuyo",
        "outputId": "4b7f30b1-4ce4-490e-ceed-5b53f1ffecf3"
      },
      "execution_count": 4,
      "outputs": [
        {
          "output_type": "stream",
          "name": "stdout",
          "text": [
            "Enter your password: Pass12@word\n",
            "The strength of your password 'Pass12@word' is: Strong\n"
          ]
        }
      ]
    }
  ]
}